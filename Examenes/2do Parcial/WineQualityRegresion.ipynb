{
 "cells": [
  {
   "cell_type": "code",
   "execution_count": 1,
   "id": "c1b8a0b8-f7f2-416e-b54e-7a89f9bd0611",
   "metadata": {},
   "outputs": [],
   "source": [
    "# utilizado para manejos de directorios y rutas\n",
    "import os\n",
    "import math\n",
    "# Computacion vectorial y cientifica para python\n",
    "import numpy as np\n",
    "# Librerias para graficación (trazado de gráficos)\n",
    "from matplotlib import pyplot"
   ]
  },
  {
   "cell_type": "code",
   "execution_count": 2,
   "id": "dc1d4b2b-5733-4b11-b53c-e19c7f0e7693",
   "metadata": {},
   "outputs": [
    {
     "name": "stdout",
     "output_type": "stream",
     "text": [
      "1279 319\n"
     ]
    }
   ],
   "source": [
    "data = np.genfromtxt('winequality-red.csv',delimiter=',')\n",
    "trainPorcen = int(len(data)/100*80)\n",
    "testPorcen = int(len(data)/100*20)\n",
    "print(trainPorcen, testPorcen)\n",
    "\n",
    "X = data[:,:11]\n",
    "y = data[:, 11]\n",
    "# y = np.array([int(e) for e in y])\n",
    "# y = np.squeeze(y)\n",
    "m = y.size\n"
   ]
  },
  {
   "cell_type": "code",
   "execution_count": 3,
   "id": "4278fcc7-bb32-40b6-b604-e67265855eae",
   "metadata": {},
   "outputs": [],
   "source": [
    "def  featureNormalize(X):\n",
    "    X_norm = X.copy()\n",
    "    mu = np.zeros(X.shape[1])\n",
    "    sigma = np.zeros(X.shape[1])\n",
    "\n",
    "    mu = np.mean(X, axis = 0)\n",
    "    sigma = np.std(X, axis = 0)\n",
    "    X_norm = (X - mu) / sigma\n",
    "    \n",
    "    return X_norm, mu, sigma"
   ]
  },
  {
   "cell_type": "code",
   "execution_count": 4,
   "id": "bd5fa7e9-734a-4375-a6c1-2caa67101e21",
   "metadata": {},
   "outputs": [
    {
     "name": "stdout",
     "output_type": "stream",
     "text": [
      "(1599, 11) (11,) (11,)\n",
      "[[ 7.4    0.7    0.    ...  3.51   0.56   9.4  ]\n",
      " [ 7.8    0.88   0.    ...  3.2    0.68   9.8  ]\n",
      " [ 7.8    0.76   0.04  ...  3.26   0.65   9.8  ]\n",
      " ...\n",
      " [ 6.3    0.51   0.13  ...  3.42   0.75  11.   ]\n",
      " [ 5.9    0.645  0.12  ...  3.57   0.71  10.2  ]\n",
      " [ 6.     0.31   0.47  ...  3.39   0.66  11.   ]]\n",
      "Media calculada: [ 8.31963727  0.52782051  0.27097561  2.5388055   0.08746654 15.87492183\n",
      " 46.46779237  0.99674668  3.3111132   0.65814884 10.42298311]\n",
      "Desviación estandar calculada: [1.74055180e+00 1.79003704e-01 1.94740214e-01 1.40948711e+00\n",
      " 4.70505826e-02 1.04568856e+01 3.28850367e+01 1.88674370e-03\n",
      " 1.54338181e-01 1.69453967e-01 1.06533430e+00]\n",
      "[[-0.52835961  0.96187667 -1.39147228 ...  1.28864292 -0.57920652\n",
      "  -0.96024611]\n",
      " [-0.29854743  1.96744245 -1.39147228 ... -0.7199333   0.1289504\n",
      "  -0.58477711]\n",
      " [-0.29854743  1.29706527 -1.18607043 ... -0.33117661 -0.04808883\n",
      "  -0.58477711]\n",
      " ...\n",
      " [-1.1603431  -0.09955388 -0.72391627 ...  0.70550789  0.54204194\n",
      "   0.54162988]\n",
      " [-1.39015528  0.65462046 -0.77526673 ...  1.6773996   0.30598963\n",
      "  -0.20930812]\n",
      " [-1.33270223 -1.21684919  1.02199944 ...  0.51112954  0.01092425\n",
      "   0.54162988]]\n"
     ]
    }
   ],
   "source": [
    "# llama featureNormalize con los datos cargados\n",
    "X_norm, mu, sigma = featureNormalize(X)\n",
    "\n",
    "print(X_norm.shape,mu.shape,sigma.shape)\n",
    "print(X)\n",
    "print('Media calculada:', mu)\n",
    "print('Desviación estandar calculada:', sigma)\n",
    "print(X_norm)"
   ]
  },
  {
   "cell_type": "code",
   "execution_count": 5,
   "id": "ae5752a0-fe39-450b-b5ba-9d5b4356efca",
   "metadata": {},
   "outputs": [],
   "source": [
    "X = np.concatenate([np.ones((m, 1)), X_norm], axis=1)"
   ]
  },
  {
   "cell_type": "code",
   "execution_count": 6,
   "id": "189bdd88-d920-44fd-8895-4b1f60e1cf05",
   "metadata": {},
   "outputs": [
    {
     "name": "stdout",
     "output_type": "stream",
     "text": [
      "(1599, 12)\n"
     ]
    }
   ],
   "source": [
    "print(X.shape)"
   ]
  },
  {
   "cell_type": "code",
   "execution_count": 7,
   "id": "79b10a1f-6270-444b-bd92-f1672876f0e9",
   "metadata": {},
   "outputs": [
    {
     "name": "stdout",
     "output_type": "stream",
     "text": [
      "12\n",
      "[5. 5. 5. ... 4. 6. 6.]\n",
      "(320, 12)\n",
      "(320,)\n"
     ]
    }
   ],
   "source": [
    "X_train = X[:trainPorcen, :12]\n",
    "y_train = y[:trainPorcen]\n",
    "\n",
    "X_test = X[trainPorcen: , :12]\n",
    "y_test = y[trainPorcen:]\n",
    "m = y_train.size\n",
    "\n",
    "print(X_train.shape[1])\n",
    "print(y_train)\n",
    "print(X_test.shape)\n",
    "print(y_test.shape)"
   ]
  },
  {
   "cell_type": "code",
   "execution_count": 8,
   "id": "f8017ec5-5fe8-4483-acaf-beadcbbcbe1e",
   "metadata": {},
   "outputs": [],
   "source": [
    "def computeCostMulti(X, y, theta):\n",
    "    # Inicializa algunos valores utiles\n",
    "    m = y.shape[0] # numero de ejemplos de entrenamiento\n",
    "    \n",
    "    J = 0\n",
    "    \n",
    "    h = np.dot(X, theta)\n",
    "    \n",
    "    J = (1/(2 * m)) * np.sum(np.square(np.dot(X, theta) - y))\n",
    "    \n",
    "    return J\n"
   ]
  },
  {
   "cell_type": "code",
   "execution_count": 9,
   "id": "8180620a-789e-47c9-9753-386c6b7cf029",
   "metadata": {},
   "outputs": [],
   "source": [
    "def gradientDescentMulti(X, y, theta, alpha, num_iters):\n",
    "    \n",
    "    # Inicializa algunos valores \n",
    "    m = y.shape[0] # numero de ejemplos de entrenamiento\n",
    "    \n",
    "    # realiza una copia de theta, el cual será acutalizada por el descenso por el gradiente\n",
    "    theta = theta.copy()\n",
    "    \n",
    "    J_history = []\n",
    "    \n",
    "    for i in range(num_iters):\n",
    "        theta = theta - (alpha / m) * (np.dot(X, theta) - y).dot(X)\n",
    "        J_history.append(computeCostMulti(X, y, theta))\n",
    "    \n",
    "    return theta, J_history"
   ]
  },
  {
   "cell_type": "code",
   "execution_count": 10,
   "id": "93a97822-90cb-4092-a93d-a0fec80de605",
   "metadata": {},
   "outputs": [
    {
     "name": "stdout",
     "output_type": "stream",
     "text": [
      "theta calculado por el descenso por el gradiente: [ 5.6565126   0.09855837 -0.19447178 -0.05179352  0.02448612 -0.07166389\n",
      "  0.01688385 -0.0986148  -0.07499274 -0.02095711  0.13756471  0.28616441]\n",
      "(320, 12) (11,) (11,)\n",
      "[ 5.6565126   0.09855837 -0.19447178 -0.05179352  0.02448612 -0.07166389\n",
      "  0.01688385 -0.0986148  -0.07499274 -0.02095711  0.13756471  0.28616441]\n",
      "51.112912128607846\n",
      "El precio predecido para una casa de 1650 sq-ft y 3 dormitorios (usando el descenso por el gradiente): $51\n"
     ]
    },
    {
     "data": {
      "image/png": "[encoded data removed]",
      "text/plain": [
       "<Figure size 432x288 with 1 Axes>"
      ]
     },
     "metadata": {
      "needs_background": "light"
     },
     "output_type": "display_data"
    }
   ],
   "source": [
    "# Elegir algun valor para alpha (probar varias alternativas)\n",
    "alpha = 0.0001\n",
    "num_iters = 100000\n",
    "\n",
    "# inicializa theta y ejecuta el descenso por el gradiente\n",
    "theta = np.zeros(12)\n",
    "theta, J_history = gradientDescentMulti(X_train, y_train, theta, alpha, num_iters)\n",
    "\n",
    "# Grafica la convergencia del costo\n",
    "pyplot.plot(np.arange(len(J_history)), J_history, lw=2)\n",
    "pyplot.xlabel('Numero de iteraciones')\n",
    "pyplot.ylabel('Costo J')\n",
    "\n",
    "# Muestra los resultados del descenso por el gradiente\n",
    "print('theta calculado por el descenso por el gradiente: {:s}'.format(str(theta)))\n",
    "\n",
    "# Estimar el precio para una casa de 1650 sq-ft, con 3 dormitorios\n",
    "X_array = X_test[15]\n",
    "print(X_test.shape, mu.shape, sigma.shape)\n",
    "X_array[1:12] = (X_array[1:12] - mu) / sigma\n",
    "print(theta)\n",
    "price = np.dot(X_array, theta)   # Se debe cambiar esto\n",
    "print(price)\n",
    "print('El precio predecido para una casa de 1650 sq-ft y 3 dormitorios (usando el descenso por el gradiente): ${:.0f}'.format(price))"
   ]
  },
  {
   "cell_type": "code",
   "execution_count": 11,
   "id": "435be2ac-f340-44a6-a71f-f52fe566de8a",
   "metadata": {},
   "outputs": [
    {
     "name": "stdout",
     "output_type": "stream",
     "text": [
      "1439 159\n",
      "[ 1.      7.2     0.37    0.32    2.      0.062  15.     28.      0.9947\n",
      "  3.23    0.73   11.3   ]\n"
     ]
    }
   ],
   "source": [
    "# Cargar datos\n",
    "import math\n",
    "data = np.genfromtxt('winequality-red.csv',delimiter=',')\n",
    "trainPorcen = int(len(data)/100*90)\n",
    "testPorcen = int(len(data)/100*10)\n",
    "print(trainPorcen, testPorcen)\n",
    "\n",
    "X = data[:,:11]\n",
    "y = data[:, 11]\n",
    "y = np.array([int(e) for e in y])\n",
    "y = np.squeeze(y)\n",
    "\n",
    "m = y.size\n",
    "X = np.concatenate([np.ones((m, 1)), X], axis=1)\n",
    "\n",
    "X_train = X[:trainPorcen, :12]\n",
    "y_train = y[:trainPorcen]\n",
    "\n",
    "X_test = X[trainPorcen: , :12]\n",
    "y_test = y[trainPorcen:]\n",
    "m = y_train.size\n",
    "print(X_test[1])"
   ]
  },
  {
   "cell_type": "code",
   "execution_count": 12,
   "id": "a6255b54-fde6-44df-af32-9a9910da7202",
   "metadata": {},
   "outputs": [],
   "source": [
    "def normalEqn(X, y):\n",
    "  \n",
    "    theta = np.zeros(X.shape[1])\n",
    "    \n",
    "    theta = np.dot(np.dot(np.linalg.inv(np.dot(X.T,X)),X.T),y)\n",
    "    \n",
    "    return theta"
   ]
  },
  {
   "cell_type": "code",
   "execution_count": 13,
   "id": "5f7e211b-5863-450a-9dc6-4e54972ac4ef",
   "metadata": {},
   "outputs": [
    {
     "name": "stdout",
     "output_type": "stream",
     "text": [
      "Theta calculado a partir de la ecuación de la normal: [ 2.63868777e+01  2.95598220e-02 -1.04640056e+00 -1.22025213e-01\n",
      "  1.71080915e-02 -1.77262620e+00  3.76492834e-03 -3.53000007e-03\n",
      " -2.27863088e+01 -2.53057789e-01  8.85502956e-01  2.66780573e-01]\n",
      "Test Set Accuracy: 45.000000\n"
     ]
    }
   ],
   "source": [
    "# Calcula los parametros con la ecuación de la normal\n",
    "theta = normalEqn(X_train, y_train);\n",
    "\n",
    "# Muestra los resultados optenidos a partir de la aplicación de la ecuación de la normal\n",
    "print('Theta calculado a partir de la ecuación de la normal: {:s}'.format(str(theta)));\n",
    "\n",
    "# Estimar el precio para una casa de superficie de 1650 sq-ft y tres dormitorios\n",
    "# print(X_test[1])\n",
    "# print(y_test[1])\n",
    "pred = []\n",
    "# for i in range(X_test.shape[0]):\n",
    "# #     X_array = X_test[88]\n",
    "# #     print(test)\n",
    "#     price = np.dot(X_test[i], theta)\n",
    "# #     print(math.ceil(price), y_test[i])\n",
    "#     pred.append(math.ceil(price))\n",
    "# #     print('Precio predecido para una cada de superficie de 1650 sq-ft y 3 dormitorios (usando la ecuación de la normal): ${:.0f}'.format(price))\n",
    "    \n",
    "for test in X_test:\n",
    "#     X_array = X_test[88]\n",
    "#     print(test)\n",
    "    price = np.dot(test, theta)\n",
    "#     print(int(price))\n",
    "    pred.append(int(price))\n",
    "#     print('Precio predecido para una cada de superficie de 1650 sq-ft y 3 dormitorios (usando la ecuación de la normal): ${:.0f}'.format(price))\n",
    "\n",
    "print('Test Set Accuracy: %f' % (np.mean(pred == y_test[:]) * 100))\n",
    "\n"
   ]
  },
  {
   "cell_type": "code",
   "execution_count": null,
   "id": "81b16eea-7136-48f2-a95c-b9800c9a2b44",
   "metadata": {},
   "outputs": [],
   "source": []
  }
 ],
 "metadata": {
  "kernelspec": {
   "display_name": "Python 3",
   "language": "python",
   "name": "python3"
  },
  "language_info": {
   "codemirror_mode": {
    "name": "ipython",
    "version": 3
   },
   "file_extension": ".py",
   "mimetype": "text/x-python",
   "name": "python",
   "nbconvert_exporter": "python",
   "pygments_lexer": "ipython3",
   "version": "3.8.8"
  }
 },
 "nbformat": 4,
 "nbformat_minor": 5
}
