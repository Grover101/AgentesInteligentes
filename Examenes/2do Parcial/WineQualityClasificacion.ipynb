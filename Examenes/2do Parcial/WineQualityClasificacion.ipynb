{
 "cells": [
  {
   "cell_type": "code",
   "execution_count": 1,
   "id": "001acc8d-c689-45ff-b689-598dfe71e8e9",
   "metadata": {},
   "outputs": [],
   "source": [
    "# importar librerias\n",
    "import numpy as np\n",
    "from scipy import optimize"
   ]
  },
  {
   "cell_type": "code",
   "execution_count": 2,
   "id": "39497797-65c4-4168-a9ba-2a51549f412a",
   "metadata": {},
   "outputs": [
    {
     "name": "stdout",
     "output_type": "stream",
     "text": [
      "(1439, 11)\n",
      "(1439,)\n"
     ]
    }
   ],
   "source": [
    "# leyendo el data set\n",
    "data = np.genfromtxt('winequality-red.csv',delimiter=',')\n",
    "\n",
    "# separando los datos para X y Y\n",
    "trainPorcen = int(len(data)/100*90)\n",
    "testPorcen = int(len(data)/100*10)\n",
    "# print(trainPorcen, testPorcen)\n",
    "X_train = data[:trainPorcen, :11]\n",
    "y_train = data[:trainPorcen, 11]\n",
    "\n",
    "y_train = np.array([int(e) for e in y_train])\n",
    "y_train = np.squeeze(y_train)\n",
    "\n",
    "m = y_train.size\n",
    "\n",
    "print(X_train.shape)\n",
    "print(y_train.shape)\n",
    "# print(X_test.shape)\n",
    "# print(y_test.shape)"
   ]
  },
  {
   "cell_type": "code",
   "execution_count": 3,
   "id": "b4e24c3b-8947-401b-820c-ab4f50c0f349",
   "metadata": {},
   "outputs": [],
   "source": [
    "# definiendo el numero de caracteristicas y numero de etiquetas\n",
    "input_layer_size = 11\n",
    "num_labels = 6"
   ]
  },
  {
   "cell_type": "code",
   "execution_count": 4,
   "id": "71d1322a-100a-4efd-a244-e88bdbc84daf",
   "metadata": {},
   "outputs": [],
   "source": [
    "#  Calcula la sigmoide de z.\n",
    "def sigmoid(z):\n",
    "    return 1.0 / (1.0 + np.exp(-z))"
   ]
  },
  {
   "cell_type": "code",
   "execution_count": 5,
   "id": "4516db8c-e9a3-4c9b-80d6-eaa407509a58",
   "metadata": {},
   "outputs": [],
   "source": [
    "# fucion de costo\n",
    "def lrCostFunction(theta, X, y, lambda_):\n",
    "    # Inicializa algunos valores utiles\n",
    "    m = y.size\n",
    "    \n",
    "    # convierte las etiquetas a valores enteros si son boleanos\n",
    "    if y.dtype == bool:\n",
    "        y = y.astype(int)\n",
    "    \n",
    "    J = 0\n",
    "    grad = np.zeros(theta.shape)\n",
    "    \n",
    "    h = sigmoid(X.dot(theta.T))\n",
    "    \n",
    "    temp = theta\n",
    "    temp[0] = 0\n",
    "    \n",
    "    J = (1 / m) * np.sum(-y.dot(np.log(h)) - (1 - y).dot(np.log(1 - h))) + (lambda_ / (2 * m)) * np.sum(np.square(temp))\n",
    "    \n",
    "    grad = (1 / m) * (h - y).dot(X) \n",
    "    grad = grad + (lambda_ / m) * temp\n",
    "\n",
    "    return J, grad"
   ]
  },
  {
   "cell_type": "code",
   "execution_count": 6,
   "id": "a68967af-bf6f-4fcf-9ed4-e74cf5a50bca",
   "metadata": {},
   "outputs": [],
   "source": [
    "# funcion de one vs all\n",
    "def oneVsAll(X, y, num_labels, lambda_):\n",
    "\n",
    "    m, n = X.shape\n",
    "    \n",
    "    all_theta = np.zeros((num_labels, n + 1))\n",
    "#     print(all_theta.shape)\n",
    "    # Agrega unos a la matriz X\n",
    "    X = np.concatenate([np.ones((m, 1)), X], axis=1)\n",
    "\n",
    "\n",
    "    for c in np.arange(num_labels):\n",
    "#         print(c+3)\n",
    "        initial_theta = np.zeros(n+1)\n",
    "#         print(initial_theta.shape)\n",
    "        options = {'maxiter': 1000}\n",
    "        res = optimize.minimize(lrCostFunction, \n",
    "                                initial_theta, \n",
    "                                (X, (y == (c + 3)), lambda_), \n",
    "                                jac=True, \n",
    "                                method='Newton-CG',\n",
    "                                options=options) \n",
    "        \n",
    "        all_theta[c] = res.x\n",
    "\n",
    "    return all_theta"
   ]
  },
  {
   "cell_type": "code",
   "execution_count": 7,
   "id": "9ed42ee0-9998-46f0-a13d-97c40e336ef9",
   "metadata": {},
   "outputs": [],
   "source": [
    "lambda_ = 0.0003\n",
    "all_theta = oneVsAll(X_train, y_train, num_labels, lambda_)"
   ]
  },
  {
   "cell_type": "code",
   "execution_count": 8,
   "id": "0b12ff14-413f-45d7-b7da-ad87c8908611",
   "metadata": {},
   "outputs": [
    {
     "name": "stdout",
     "output_type": "stream",
     "text": [
      "[[-3.87589377e+01  1.27050673e+00  8.62306146e+00  3.87215304e+00\n",
      "  -7.64399279e-02  2.19916402e+01  1.99722884e-01 -1.11001634e-01\n",
      "  -1.24754504e+01  1.50100653e+01 -5.00160581e+00 -2.06680263e+00]\n",
      " [ 1.91486282e+00 -4.29189468e-02  3.50251700e+00  1.81009403e-01\n",
      "   2.03475331e-01  2.49165486e+00 -1.76639664e-02 -8.25262729e-03\n",
      "  -1.07146058e+01  1.77202243e+00 -9.04752520e-01 -1.82237393e-01]\n",
      " [-6.74349818e+01 -1.81509732e-01  2.07655437e+00  8.95227747e-01\n",
      "  -7.91528420e-02  2.18022152e+00 -2.05704758e-02  1.90019460e-02\n",
      "   7.93175426e+01 -6.40360698e-01 -2.39373983e+00 -8.41356627e-01]\n",
      " [-5.04378242e-01  7.01026768e-02 -1.93500230e+00 -1.56780832e+00\n",
      "  -4.39088782e-02 -3.04015461e-01  2.37448140e-02 -1.28198440e-02\n",
      "  -4.79188186e-01 -2.14599328e-01  7.78874542e-01  1.86615327e-01]\n",
      " [ 4.84193450e+01  1.22857181e-01 -3.01458431e+00  5.40930282e-01\n",
      "   1.72120797e-01 -7.01472554e+00  1.15591507e-02 -1.65043176e-02\n",
      "  -6.12619297e+01  2.54905007e-01  3.03510271e+00  7.87563874e-01]\n",
      " [ 4.42957298e-01 -3.93382188e-01  1.98512811e+00  3.57819158e+00\n",
      "  -9.52726266e-02 -2.78678197e+01  2.61841000e-03 -1.83944154e-02\n",
      "   9.32079232e-02 -5.14778653e+00  3.63894971e+00  1.19897157e+00]]\n"
     ]
    }
   ],
   "source": [
    "print(all_theta)"
   ]
  },
  {
   "cell_type": "code",
   "execution_count": 9,
   "id": "f5e98883-4ee9-4557-976b-252d8cfd0954",
   "metadata": {},
   "outputs": [],
   "source": [
    "# funcion de prediccion de one vs all\n",
    "def predictOneVsAll(all_theta, X):\n",
    "    m = X.shape[0]\n",
    "    print(m)\n",
    "    num_labels = all_theta.shape[0]\n",
    "\n",
    "    p = np.zeros(m)\n",
    "\n",
    "    # Add ones to the X data matrix\n",
    "    X = np.concatenate([np.ones((m, 1)), X], axis=1)\n",
    "    p = np.argmax(sigmoid(X.dot(all_theta.T)), axis = 1)\n",
    "\n",
    "    return p + 3"
   ]
  },
  {
   "cell_type": "code",
   "execution_count": 10,
   "id": "000fcbae-da97-4a6f-aadc-44ab06124b81",
   "metadata": {},
   "outputs": [
    {
     "name": "stdout",
     "output_type": "stream",
     "text": [
      "(1439,)\n",
      "1439\n",
      "Precision del conjuto de entrenamiento: 60.39%\n",
      "Precision del conjuto de test: 57.50%\n",
      "[5 6 5 6 6 5 5 6 5 6 6 6 6 6 5 6 6 5 5 6 6 6 5 6 6 5 5 5 5 5 5 5 6 6 6 5 7\n",
      " 5 7 5 6 5 6 5 6 5 5 5 6 6 6 6 6 6 5 6 6 5 6 5 6 5 5 5 6 6 5 6 6 6 6 6 5 5\n",
      " 5 5 5 6 6 5 5 6 5 6 5 6 6 5 6 5 6 6 5 6 5 6 5 6 6 6 6 6 6 5 6 6 5 6 6 6 6\n",
      " 5 5 6 5 6 6 5 6 5 5 5 5 5 5 5 6 6 5 5 6 6 6 5 6 5 6 6 6 6 6 6 6 6 5 6 6 6\n",
      " 6 6 5 6 6 6 6 6 6 6 6 6]\n"
     ]
    }
   ],
   "source": [
    "print(y_train.shape)\n",
    "pred = predictOneVsAll(all_theta, X_train)\n",
    "print('Precision del conjuto de entrenamiento: {:.2f}%'.format(np.mean(pred == y_train) * 100))\n",
    "X_test = data[trainPorcen: , :11]\n",
    "y_test = data[trainPorcen: , 11]\n",
    "# print(X_test.shape)\n",
    "# print(len(X_test))\n",
    "\n",
    "X_test = np.concatenate((np.ones((len(X_test), 1)), X_test), axis=1)\n",
    "\n",
    "p = np.argmax(sigmoid(X_test.dot(all_theta.T)), axis = 1)\n",
    "print('Precision del conjuto de test: {:.2f}%'.format(np.mean(p+3 == y_test) * 100))\n",
    "print(p + 3)"
   ]
  },
  {
   "cell_type": "code",
   "execution_count": null,
   "id": "8ff77942-3b20-4d9a-923a-f64b4fd74a9c",
   "metadata": {},
   "outputs": [],
   "source": []
  }
 ],
 "metadata": {
  "kernelspec": {
   "display_name": "Python 3",
   "language": "python",
   "name": "python3"
  },
  "language_info": {
   "codemirror_mode": {
    "name": "ipython",
    "version": 3
   },
   "file_extension": ".py",
   "mimetype": "text/x-python",
   "name": "python",
   "nbconvert_exporter": "python",
   "pygments_lexer": "ipython3",
   "version": "3.8.8"
  }
 },
 "nbformat": 4,
 "nbformat_minor": 5
}
