{
 "cells": [
  {
   "cell_type": "code",
   "execution_count": 1,
   "metadata": {
    "id": "stUHtyXwtUTc"
   },
   "outputs": [],
   "source": [
    "# Importando las librerias a utilizar \n",
    "import numpy as np\n",
    "\n",
    "from matplotlib import pyplot\n",
    "\n",
    "from scipy import optimize"
   ]
  },
  {
   "cell_type": "code",
   "execution_count": 2,
   "metadata": {
    "colab": {
     "base_uri": "https://localhost:8080/"
    },
    "id": "iPKROwkOtpkn",
    "outputId": "4e89c0ff-1206-494e-d445-8d64424b5105"
   },
   "outputs": [
    {
     "name": "stdout",
     "output_type": "stream",
     "text": [
      "[5. 5. 5. ... 6. 5. 6.]\n",
      "1439 159\n",
      "(1439,)\n",
      "(160,)\n"
     ]
    }
   ],
   "source": [
    "#  datos de entrenamiento almacenados en los arreglos X_train, y_train\n",
    "data = np.genfromtxt('winequality-red.csv',delimiter=',')\n",
    "# print(data.shape)\n",
    "X_train, y_train = data[:, :11], data[:,11]\n",
    "print(y_train)\n",
    "y_train = np.array([int(e) for e in y_train])\n",
    "y_train = np.squeeze(y_train)\n",
    "# print(y_train)\n",
    "\n",
    "# # y_train[y_train == 0] = 0\n",
    "# cambiar las clases de y de 0 a 9\n",
    "# y_train[y_train == 1] = 0\n",
    "# y_train[y_train == 2] = 1\n",
    "# y_train[y_train == 3] = 2\n",
    "# y_train[y_train == 4] = 3\n",
    "# y_train[y_train == 5] = 4\n",
    "# y_train[y_train == 6] = 5\n",
    "# y_train[y_train == 7] = 6\n",
    "# y_train[y_train == 8] = 7\n",
    "# y_train[y_train == 9] = 8\n",
    "# y_train[y_train == 10] = 9\n",
    "\n",
    "trainPorcen = int(len(data)/100*90)\n",
    "testPorcen = int(len(data)/100*10)\n",
    "print(trainPorcen, testPorcen)\n",
    "\n",
    "X_test = X_train[trainPorcen: , :11]\n",
    "y_test = y_train[trainPorcen:]\n",
    "\n",
    "X_train = X_train[:trainPorcen, :11]\n",
    "y_train = y_train[:trainPorcen]\n",
    "\n",
    "print(y_train.shape)\n",
    "print(y_test.shape)\n",
    "\n",
    "m = y_train.size"
   ]
  },
  {
   "cell_type": "code",
   "execution_count": 3,
   "metadata": {},
   "outputs": [
    {
     "name": "stdout",
     "output_type": "stream",
     "text": [
      "(144,)\n",
      "(130,)\n",
      "(274,)\n"
     ]
    }
   ],
   "source": [
    "# Configurando parametros necesario\n",
    "input_layer_size  = 11   # Entrada de 11 caracteristicas\n",
    "hidden_layer_size = 12   # 12 unidades ocultas\n",
    "num_labels = 10           # 3 etiquetas, de 0 a 2\n",
    "\n",
    "pesos = {}\n",
    "pesos['Theta1'] = np.random.rand(12, 12)\n",
    "pesos['Theta2'] = np.random.rand(10, 13)\n",
    "\n",
    "Theta1, Theta2 = pesos['Theta1'], pesos['Theta2']\n",
    "\n",
    "# Desenrollar parámetros\n",
    "print(Theta1.ravel().shape)\n",
    "print(Theta2.ravel().shape)\n",
    "\n",
    "nn_params = np.concatenate([Theta1.ravel(), Theta2.ravel()])\n",
    "print(nn_params.shape)"
   ]
  },
  {
   "cell_type": "code",
   "execution_count": 4,
   "metadata": {
    "colab": {
     "base_uri": "https://localhost:8080/"
    },
    "id": "YN2IfP_5vz8v",
    "outputId": "fd70af85-b164-4cae-f888-deffd3dc379f"
   },
   "outputs": [],
   "source": [
    "# # Configurando parametros necesario\n",
    "# input_layer_size1  = 11   # Entrada de 11 caracteristicas\n",
    "# hidden_layer_size1 = 14   # 14 unidades ocultas\n",
    "# input_layer_size2 = 14    # 14 unidades ocultas para la segunda capa\n",
    "# hidden_layer_size2 = 8    # 5 unidades ocultas\n",
    "# num_labels = 10           # 3 etiquetas, de 0 a 2\n",
    "\n",
    "# pesos = {}\n",
    "# pesos['Theta1'] = np.random.rand(14, 12)\n",
    "# pesos['Theta2'] = np.random.rand(8, 15)\n",
    "# pesos['Theta3'] = np.random.rand(10, 9)\n",
    "\n",
    "# Theta1, Theta2, Theta3= pesos['Theta1'], pesos['Theta2'], pesos['Theta3']\n",
    "\n",
    "# # Desenrollar parámetros\n",
    "# print(Theta1.ravel().shape)\n",
    "# print(Theta2.ravel().shape)\n",
    "# print(Theta3.ravel().shape)\n",
    "\n",
    "# nn_params = np.concatenate([Theta1.ravel(), Theta2.ravel(),Theta3.ravel()])\n",
    "# print(nn_params.shape)"
   ]
  },
  {
   "cell_type": "code",
   "execution_count": 5,
   "metadata": {
    "id": "IYkAveQh0e87"
   },
   "outputs": [],
   "source": [
    "def sigmoid(z):\n",
    "    return 1.0 / (1.0 + np.exp(-z))\n",
    "\n",
    "def sigmoidGradient(z):\n",
    "  \n",
    "    g = np.zeros(z.shape)\n",
    "    g = sigmoid(z) * (1 - sigmoid(z))\n",
    "    return g"
   ]
  },
  {
   "cell_type": "code",
   "execution_count": 6,
   "metadata": {},
   "outputs": [],
   "source": [
    "def nnCostFunction(nn_params, input_layer_size, hidden_layer_size, num_labels, X, y, lambda_=0.0):\n",
    "    # pasas de un arreglo plano a un matrix con dimenciones correspondiente    \n",
    "    Theta1 = np.reshape(nn_params[:hidden_layer_size * (input_layer_size + 1)],\n",
    "                        (hidden_layer_size, (input_layer_size + 1)))\n",
    "\n",
    "    Theta2 = np.reshape(nn_params[(hidden_layer_size * (input_layer_size + 1)):],\n",
    "                        (num_labels, (hidden_layer_size + 1)))\n",
    "\n",
    "    m = y.size\n",
    "    J = 0\n",
    "    Theta1_grad = np.zeros(Theta1.shape)\n",
    "    Theta2_grad = np.zeros(Theta2.shape)\n",
    "    \n",
    "    a1 = np.concatenate([np.ones((m, 1)), X], axis=1)\n",
    "    \n",
    "    a2 = sigmoid(a1.dot(Theta1.T))\n",
    "    a2 = np.concatenate([np.ones((a2.shape[0], 1)), a2], axis=1)\n",
    "    \n",
    "    a3 = sigmoid(a2.dot(Theta2.T))\n",
    "    \n",
    "    y_matrix = y.reshape(-1)\n",
    "    # print(y.shape)\n",
    "    y_matrix = np.eye(num_labels)[y_matrix]\n",
    "    # print(y_matrix)\n",
    "\n",
    "    temp1 = Theta1\n",
    "    temp2 = Theta2\n",
    "    \n",
    "    # Agregar el termino de regularización\n",
    "    reg_term = (lambda_ / (2 * m)) * (np.sum(np.square(temp1[:, 1:])) + np.sum(np.square(temp2[:, 1:])))\n",
    "    \n",
    "    J = (-1 / m) * np.sum((np.log(a3) * y_matrix) + np.log(1 - a3) * (1 - y_matrix)) + reg_term\n",
    "    \n",
    "    # Backpropogation\n",
    "    delta_3 = a3 - y_matrix\n",
    "    delta_2 = delta_3.dot(Theta2)[:, 1:] * sigmoidGradient(a1.dot(Theta1.T))\n",
    "\n",
    "    Delta1 = delta_2.T.dot(a1)\n",
    "    Delta2 = delta_3.T.dot(a2)\n",
    "    \n",
    "    # Agregar regularización al gradiente\n",
    "    Theta1_grad = (1 / m) * Delta1\n",
    "    Theta1_grad[:, 1:] = Theta1_grad[:, 1:] + (lambda_ / m) * Theta1[:, 1:]\n",
    "    \n",
    "    Theta2_grad = (1 / m) * Delta2\n",
    "    Theta2_grad[:, 1:] = Theta2_grad[:, 1:] + (lambda_ / m) * Theta2[:, 1:]\n",
    "    \n",
    "    grad = np.concatenate([Theta1_grad.ravel(), Theta2_grad.ravel()])\n",
    "    \n",
    "    return J, grad"
   ]
  },
  {
   "cell_type": "code",
   "execution_count": 7,
   "metadata": {
    "id": "Aevzq-rt0vKn"
   },
   "outputs": [],
   "source": [
    "# def nnCostFunction(nn_params, input_layer_size1, hidden_layer_size1, input_layer_size2, hidden_layer_size2, num_labels, X, y, lambda_=0.0):\n",
    "#         pasas de un arreglo plano a un matrix con dimenciones correspondiente   \n",
    "# #     print(hidden_layer_size1 * (input_layer_size1 + 1), hidden_layer_size2 * (input_layer_size2 + 1))\n",
    "# #     print(np.reshape(nn_params[:144],()))\n",
    "    \n",
    "#     Theta1 = np.reshape(nn_params[:hidden_layer_size1 * (input_layer_size1 + 1)],\n",
    "#                         (hidden_layer_size1, (input_layer_size1 + 1)))\n",
    "        \n",
    "# #     print(Theta1.shape)\n",
    "# #     print((hidden_layer_size1 * (input_layer_size1 + 1)),hidden_layer_size2 * (input_layer_size2 + 1)+(hidden_layer_size1 * (input_layer_size1 + 1)))\n",
    "# #     print(hidden_layer_size2, (input_layer_size2 + 1))\n",
    "    \n",
    "    \n",
    "# #     print(np.reshape(nn_params[144:144+78],(6,13)))\n",
    "# #     Theta2 = np.reshape(nn_params[144:144+78],(6,12))\n",
    "    \n",
    "#     Theta2 = np.reshape(nn_params[(hidden_layer_size1 * (input_layer_size1 + 1)):(hidden_layer_size2 * (input_layer_size2 + 1))+(hidden_layer_size1 * (input_layer_size1 + 1))],\n",
    "#                         (hidden_layer_size2, (input_layer_size2 + 1)))\n",
    "    \n",
    "# #     print(Theta2.shape)\n",
    "    \n",
    "    \n",
    "    \n",
    "# #     print(nn_params[144+78:].shape)\n",
    "# #     print(num_labels, (hidden_layer_size2 + 1))\n",
    "    \n",
    "#     Theta3 = np.reshape(nn_params[(hidden_layer_size2 * (input_layer_size2 + 1))+(hidden_layer_size1 * (input_layer_size1 + 1)):],\n",
    "#                         (num_labels, (hidden_layer_size2 + 1)))\n",
    "    \n",
    "# #     print(Theta3.shape)\n",
    "    \n",
    "# #     Theta3 = np.rashape()\n",
    "\n",
    "#     m = y.size\n",
    "         \n",
    "#     J = 0\n",
    "#     Theta1_grad = np.zeros(Theta1.shape)\n",
    "#     Theta2_grad = np.zeros(Theta2.shape)\n",
    "#     Theta3_grad = np.zeros(Theta3.shape)\n",
    "    \n",
    "#     a1 = np.concatenate([np.ones((m, 1)), X], axis=1)\n",
    "    \n",
    "#     a2 = sigmoid(a1.dot(Theta1.T))\n",
    "#     a2 = np.concatenate([np.ones((a2.shape[0], 1)), a2], axis=1)\n",
    "    \n",
    "#     a3 = sigmoid(a2.dot(Theta2.T))\n",
    "#     a3 = np.concatenate([np.ones((a3.shape[0], 1)), a3], axis=1)\n",
    "    \n",
    "#     a4 = sigmoid(a3.dot(Theta3.T))\n",
    "    \n",
    "#     # print(\"-\"*20)\n",
    "#     # print(y.shape)\n",
    "#     # print(y.reshape(-1))\n",
    "#     # print(\"-\"*20)\n",
    "#     y_matrix = y.reshape(-1)\n",
    "# #     print(y.reshape(-1))\n",
    "#     y_matrix = np.eye(num_labels)[y_matrix]\n",
    "#     # print(y_matrix)\n",
    "\n",
    "#     temp1 = Theta1\n",
    "#     temp2 = Theta2\n",
    "#     temp3 = Theta3\n",
    "    \n",
    "#     # Agregar el termino de regularización\n",
    "    \n",
    "#     reg_term = (lambda_ / (2 * m)) * (np.sum(np.square(temp1[:, 1:])) + np.sum(np.square(temp2[:, 1:]))+ np.sum(np.square(temp3[:, 1:])))\n",
    "    \n",
    "#     J = (-1 / m) * np.sum((np.log(a4) * y_matrix) + np.log(1 - a4) * (1 - y_matrix)) + reg_term\n",
    "    \n",
    "#     # Backpropogation\n",
    "    \n",
    "#     delta_4 = a4 - y_matrix\n",
    "#     delta_3 = delta_4.dot(Theta3)[:, 1:] * sigmoidGradient(a2.dot(Theta2.T))\n",
    "#     delta_2 = delta_3.dot(Theta2)[:, 1:] * sigmoidGradient(a1.dot(Theta1.T))\n",
    "\n",
    "#     Delta1 = delta_2.T.dot(a1)\n",
    "#     Delta2 = delta_3.T.dot(a2)\n",
    "#     Delta3 = delta_4.T.dot(a3)\n",
    "    \n",
    "#     # Agregar regularización al gradiente\n",
    "\n",
    "#     Theta1_grad = (1 / m) * Delta1\n",
    "#     Theta1_grad[:, 1:] = Theta1_grad[:, 1:] + (lambda_ / m) * Theta1[:, 1:]\n",
    "    \n",
    "#     Theta2_grad = (1 / m) * Delta2\n",
    "#     Theta2_grad[:, 1:] = Theta2_grad[:, 1:] + (lambda_ / m) * Theta2[:, 1:]\n",
    "    \n",
    "#     Theta3_grad = (1 / m) * Delta3\n",
    "#     Theta3_grad[:, 1:] = Theta3_grad[:, 1:] + (lambda_ / m) * Theta3[:, 1:]\n",
    "# \n",
    "#     grad = np.concatenate([Theta1_grad.ravel(), Theta2_grad.ravel(), Theta3_grad.ravel()])\n",
    "    \n",
    "#     return J, grad"
   ]
  },
  {
   "cell_type": "code",
   "execution_count": 8,
   "metadata": {
    "colab": {
     "base_uri": "https://localhost:8080/"
    },
    "id": "k4TjzE2h3BqL",
    "outputId": "6db2cc3a-a299-44af-d03b-df0f7c740376"
   },
   "outputs": [],
   "source": [
    "# lambda_ = 0\n",
    "# J, _ = nnCostFunction(nn_params, input_layer_size1, hidden_layer_size1, input_layer_size2, hidden_layer_size2, num_labels, X_train, y_train, lambda_)\n",
    "# print('Costo en parametros (cargado de ex4weights): %.6f ' % J)\n",
    "# print('El costo debe esta cercano a               : 0.287629')"
   ]
  },
  {
   "cell_type": "code",
   "execution_count": 9,
   "metadata": {},
   "outputs": [
    {
     "name": "stdout",
     "output_type": "stream",
     "text": [
      "Costo en parametros (cargado de ex4weights): 59.191490 \n",
      "El costo debe esta cercano a               : 0.287629\n"
     ]
    }
   ],
   "source": [
    "lambda_ = 0\n",
    "J, _ = nnCostFunction(nn_params, input_layer_size, hidden_layer_size, num_labels, X_train, y_train, lambda_)\n",
    "print('Costo en parametros (cargado de ex4weights): %.6f ' % J)\n",
    "print('El costo debe esta cercano a               : 0.287629')"
   ]
  },
  {
   "cell_type": "code",
   "execution_count": 10,
   "metadata": {
    "colab": {
     "base_uri": "https://localhost:8080/"
    },
    "id": "cT80ttRF-Rdv",
    "outputId": "35ae3363-5f53-44be-8a86-196b475299de"
   },
   "outputs": [
    {
     "name": "stdout",
     "output_type": "stream",
     "text": [
      "Gradiente sigmoide evaluada con [-1 -0.5 0 0.5 1]:\n",
      "  \n",
      "[0.19661193 0.23500371 0.25       0.23500371 0.19661193]\n"
     ]
    }
   ],
   "source": [
    "z = np.array([-1, -0.5, 0, 0.5, 1])\n",
    "g = sigmoidGradient(z)\n",
    "print('Gradiente sigmoide evaluada con [-1 -0.5 0 0.5 1]:\\n  ')\n",
    "print(g)"
   ]
  },
  {
   "cell_type": "code",
   "execution_count": 11,
   "metadata": {
    "id": "EnKgJRZq-x3U"
   },
   "outputs": [],
   "source": [
    "def randInitializeWeights(L_in, L_out, epsilon_init=0.12):\n",
    "    W = np.zeros((L_out, 1 + L_in))\n",
    "    W = np.random.rand(L_out, 1 + L_in) * 2 * epsilon_init - epsilon_init\n",
    "\n",
    "    return W"
   ]
  },
  {
   "cell_type": "code",
   "execution_count": 12,
   "metadata": {
    "colab": {
     "base_uri": "https://localhost:8080/"
    },
    "id": "znk_8rO0-6fE",
    "outputId": "d8acdf6d-39a8-462f-89ac-e82e0715fb0c"
   },
   "outputs": [
    {
     "name": "stdout",
     "output_type": "stream",
     "text": [
      "Inicialización de parámetros de redes neuronales...\n"
     ]
    }
   ],
   "source": [
    "print('Inicialización de parámetros de redes neuronales...')\n",
    "\n",
    "initial_Theta1 = randInitializeWeights(input_layer_size, hidden_layer_size)\n",
    "initial_Theta2 = randInitializeWeights(hidden_layer_size, num_labels)\n",
    "\n",
    "# Desenrrollr parametros\n",
    "initial_nn_params = np.concatenate([initial_Theta1.ravel(), initial_Theta2.ravel()], axis=0)"
   ]
  },
  {
   "cell_type": "code",
   "execution_count": 13,
   "metadata": {},
   "outputs": [],
   "source": [
    "# print('Inicialización de parámetros de redes neuronales...')\n",
    "\n",
    "# initial_Theta1 = randInitializeWeights(input_layer_size1, hidden_layer_size1)\n",
    "# initial_Theta2 = randInitializeWeights(input_layer_size2, hidden_layer_size2)\n",
    "# initial_Theta3 = randInitializeWeights(hidden_layer_size2, num_labels)\n",
    "\n",
    "# # Desenrrollr parametros\n",
    "# initial_nn_params = np.concatenate([initial_Theta1.ravel(), initial_Theta2.ravel(), initial_Theta3.ravel()], axis=0)"
   ]
  },
  {
   "cell_type": "code",
   "execution_count": 14,
   "metadata": {
    "colab": {
     "base_uri": "https://localhost:8080/"
    },
    "id": "-ysYL_hX_D0k",
    "outputId": "297efb30-8dfa-4327-ac48-bc19f4079df8"
   },
   "outputs": [],
   "source": [
    "#  After you have completed the assignment, change the maxiter to a larger\n",
    "#  value to see how more training helps.\n",
    "options= {'maxiter': 10000}\n",
    "\n",
    "#  se puede cambiar diferentes valores\n",
    "lambda_ = 1\n",
    "\n",
    "costFunction = lambda p: nnCostFunction(p, input_layer_size,\n",
    "                                        hidden_layer_size,\n",
    "                                        num_labels, X_train, y_train, lambda_)\n",
    "\n",
    "# Create \"short hand\" for the cost function to be minimized\n",
    "# costFunction = lambda p: nnCostFunction(p, input_layer_size1,\n",
    "#                                         hidden_layer_size1,\n",
    "#                                         input_layer_size2,\n",
    "#                                        hidden_layer_size2,\n",
    "#                                         num_labels, X_train, y_train, lambda_)\n",
    "\n",
    "# Now, costFunction is a function that takes in only one argument\n",
    "# (the neural network parameters)\n",
    "res = optimize.minimize(costFunction,\n",
    "                        initial_nn_params,\n",
    "                        jac=True,\n",
    "                        method='TNC',\n",
    "                        options=options)\n",
    "\n",
    "# get the solution of the optimization\n",
    "nn_params = res.x\n",
    "\n",
    "# Thetas para dos capas ocultas\n",
    "# Theta1 = np.reshape(nn_params[:hidden_layer_size1 * (input_layer_size1 + 1)],\n",
    "#                         (hidden_layer_size1, (input_layer_size1 + 1)))\n",
    "    \n",
    "# Theta2 = np.reshape(nn_params[(hidden_layer_size1 * (input_layer_size1 + 1)):(hidden_layer_size2 * (input_layer_size2 + 1))+(hidden_layer_size1 * (input_layer_size1 + 1))],\n",
    "#                         (hidden_layer_size2, (input_layer_size2 + 1)))\n",
    "\n",
    "    \n",
    "# Theta3 = np.reshape(nn_params[(hidden_layer_size2 * (input_layer_size2 + 1))+(hidden_layer_size1 * (input_layer_size1 + 1)):],\n",
    "#                         (num_labels, (hidden_layer_size2 + 1)))\n",
    "\n",
    "    \n",
    "# Theta para un capa oculta\n",
    "Theta1 = np.reshape(nn_params[:hidden_layer_size * (input_layer_size + 1)],\n",
    "                    (hidden_layer_size, (input_layer_size + 1)))\n",
    "\n",
    "Theta2 = np.reshape(nn_params[(hidden_layer_size * (input_layer_size + 1)):],\n",
    "                    (num_labels, (hidden_layer_size + 1)))"
   ]
  },
  {
   "cell_type": "code",
   "execution_count": 15,
   "metadata": {},
   "outputs": [],
   "source": [
    "def predict(Theta1, Theta2, X):\n",
    "    # Useful values\n",
    "    m = X.shape[0]\n",
    "    num_labels = Theta2.shape[0]\n",
    "\n",
    "    # You need to return the following variables correctly\n",
    "    p = np.zeros(m)\n",
    "    h1 = sigmoid(np.dot(np.concatenate([np.ones((m, 1)), X], axis=1), Theta1.T))\n",
    "    h2 = sigmoid(np.dot(np.concatenate([np.ones((m, 1)), h1], axis=1), Theta2.T))\n",
    "    p = np.argmax(h2, axis=1)\n",
    "    return p"
   ]
  },
  {
   "cell_type": "code",
   "execution_count": 16,
   "metadata": {
    "id": "XDnQrQM4_0Ct"
   },
   "outputs": [],
   "source": [
    "# def predict(Theta1, Theta2, Theta3, X):\n",
    "# \n",
    "#     # Useful values\n",
    "#     m = X.shape[0]\n",
    "#     num_labels = Theta3.shape[0]\n",
    "\n",
    "#     # You need to return the following variables correctly\n",
    "#     p = np.zeros(m)\n",
    "#     h1 = sigmoid(np.dot(np.concatenate([np.ones((m, 1)), X], axis=1), Theta1.T))\n",
    "#     h2 = sigmoid(np.dot(np.concatenate([np.ones((m, 1)), h1], axis=1), Theta2.T))\n",
    "#     h3 = sigmoid(np.dot(np.concatenate([np.ones((m, 1)), h2], axis=1), Theta3.T))\n",
    "#     p = np.argmax(h3, axis=1)\n",
    "#     return p"
   ]
  },
  {
   "cell_type": "code",
   "execution_count": 17,
   "metadata": {
    "colab": {
     "base_uri": "https://localhost:8080/"
    },
    "id": "rxMinI1Y_6AG",
    "outputId": "1c3a07f7-9a83-4409-a4a4-59a94b24ecd7"
   },
   "outputs": [],
   "source": [
    "# pred = predict(Theta1, Theta2, Theta3, X_train[:,:])\n",
    "# print(pred)\n",
    "# print('Training Set Accuracy: %f' % (np.mean(pred == y_train[:]) * 100))\n",
    "\n",
    "# pred = predict(Theta1, Theta2, Theta3, X_test[:,:])\n",
    "# print(pred)\n",
    "# print('Test Set Accuracy: %f' % (np.mean(pred == y_test[:]) * 100))"
   ]
  },
  {
   "cell_type": "code",
   "execution_count": 18,
   "metadata": {},
   "outputs": [
    {
     "name": "stdout",
     "output_type": "stream",
     "text": [
      "[5 5 5 ... 5 5 6]\n",
      "Training Set Accuracy: 64.072272\n",
      "[6 6 5 6 6 6 5 6 6 5 6 6 6 6 5 6 6 5 5 6 7 6 5 6 6 5 5 5 6 5 5 5 7 6 6 6 7\n",
      " 6 7 5 6 5 6 5 6 5 5 5 6 5 5 7 5 6 5 6 6 5 6 5 6 5 5 5 6 6 5 5 6 6 6 6 6 6\n",
      " 5 5 5 6 6 6 5 6 5 6 6 6 6 5 6 5 6 6 5 6 5 6 5 6 6 6 5 7 6 6 6 6 6 6 6 6 6\n",
      " 5 5 6 5 6 6 5 6 5 5 5 5 5 5 5 6 6 5 5 6 6 6 5 6 6 6 6 6 6 6 6 6 6 5 6 6 6\n",
      " 6 6 5 6 6 6 5 6 6 6 5 6]\n",
      "Test Set Accuracy: 58.125000\n"
     ]
    }
   ],
   "source": [
    "pred = predict(Theta1, Theta2, X_train[:,:])\n",
    "print(pred)\n",
    "print('Training Set Accuracy: %f' % (np.mean(pred == y_train[:]) * 100))\n",
    "pred = predict(Theta1, Theta2, X_test[:,:])\n",
    "print(pred)\n",
    "print('Test Set Accuracy: %f' % (np.mean(pred == y_test[:]) * 100))\n"
   ]
  },
  {
   "cell_type": "code",
   "execution_count": null,
   "metadata": {},
   "outputs": [],
   "source": []
  }
 ],
 "metadata": {
  "colab": {
   "collapsed_sections": [],
   "name": "redes_neuronales_vinos.ipynb",
   "provenance": []
  },
  "kernelspec": {
   "display_name": "Python 3",
   "language": "python",
   "name": "python3"
  },
  "language_info": {
   "codemirror_mode": {
    "name": "ipython",
    "version": 3
   },
   "file_extension": ".py",
   "mimetype": "text/x-python",
   "name": "python",
   "nbconvert_exporter": "python",
   "pygments_lexer": "ipython3",
   "version": "3.8.8"
  }
 },
 "nbformat": 4,
 "nbformat_minor": 4
}
